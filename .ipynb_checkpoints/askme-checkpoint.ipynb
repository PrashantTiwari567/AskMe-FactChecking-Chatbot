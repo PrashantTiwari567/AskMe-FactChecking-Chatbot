{
 "cells": [
  {
   "cell_type": "code",
   "execution_count": 1,
   "id": "4b20b0bf-8df1-4205-a8a7-f7ae72ae9769",
   "metadata": {},
   "outputs": [],
   "source": [
    "from askme import Retriever, verify_sentences, build_cited_answer, bibliography, write_decision_record\n",
    "from askme.types import AskResponse\n",
    "from datetime import datetime\n",
    "from nltk.tokenize import sent_tokenize\n"
   ]
  },
  {
   "cell_type": "code",
   "execution_count": 2,
   "id": "bb0e0590-4d92-42f3-99c4-5105872d6708",
   "metadata": {},
   "outputs": [],
   "source": [
    "def ask(query: str):\n",
    "    r = Retriever()\n",
    "    evidence = r.gather(query, max_per_source=4)\n",
    "    sentences = []\n",
    "    for e in evidence:\n",
    "        first = (sent_tokenize(e.text) or [e.text[:200]])[0]\n",
    "        sentences.append(first)\n",
    "    claims = verify_sentences(sentences, evidence)\n",
    "    answer = build_cited_answer(claims, evidence)\n",
    "    bib = bibliography(evidence)\n",
    "    record_path = write_decision_record(query, claims, evidence)\n",
    "    return AskResponse(\n",
    "        query=query,\n",
    "        answer=answer + \"\\n\\n\" + bib,\n",
    "        claims=claims,\n",
    "        evidence=evidence,\n",
    "        valid_as_of=datetime.utcnow(),\n",
    "        decision_record_path=record_path\n",
    "    )\n"
   ]
  },
  {
   "cell_type": "code",
   "execution_count": 3,
   "id": "42758aaf-8e88-4914-977e-662c9fd36971",
   "metadata": {},
   "outputs": [
    {
     "name": "stdout",
     "output_type": "stream",
     "text": [
      "Satya Narayana Nadella is an Indian-born American business executive who is the chairman and chief executive officer (CEO) of Microsoft, succeeding Steve Ballmer in 2014 as CEO and John W. Thompson in 2021 as chairman. [1] (Unverifiable)\n",
      "Microsoft Gaming is an American multinational video game and digital entertainment division of Microsoft based in Redmond, Washington, established in 2022. [2] (Unverifiable)\n",
      "Chairman and Chief Executive Officer Satya Nadella is Chairman and Chief Executive Officer of Microsoft. [3] (Unverifiable)\n",
      "Accelerating our commercial growth The Official Microsoft Blog [4] (Unverifiable)\n",
      "Microsoft names CEO to run commercial business, Nadella to focus on tech Reuters [5] (Unverifiable)\n",
      "Microsoft CEO Satya Nadella shakes up his own job, taps veteran exec as CEO of commercial business GeekWire [6] (Unverifiable)\n",
      "\n",
      "[1] Satya Nadella — wikipedia.org — https://en.wikipedia.org/wiki/Satya_Nadella\n",
      "[2] Microsoft Gaming — wikipedia.org — https://en.wikipedia.org/wiki/Microsoft_Gaming\n",
      "[3] Satya Nadella - Source — microsoft.com — https://news.microsoft.com/source/exec/satya-nadella/?msockid=29694f4752bf6b2e3bc5593e53bb6a0b\n",
      "[4] Accelerating our commercial growth - The Official Microsoft Blog — google.com — https://news.google.com/rss/articles/CBMihgFBVV95cUxPbXZEalIxNDk3TUVXZVNoSHVZRndWNF83WjdwSEJZYUYxTDRHYWI5R3ZiWHU4b2pVU1kwUDJLZTNqaEV6eTg0TlEwbWtXeHZ2eU56dW5IOU1WeFZyY2FmeDFKNUltaDI4M3JZWG9icXpYOUc2NlQ3WE53OHJILUE2WUw0TXBkUQ?oc=5\n",
      "[5] Microsoft names CEO to run commercial business, Nadella to focus on tech - Reuters — google.com — https://news.google.com/rss/articles/CBMi1AFBVV95cUxPX2NLbEdIZExjNEVaMFUtXzEzWTQ0OUxOcFZhaVU3S0p1dTVYbmFUcTNHZXBNRk5nZks4Y2lmaXFYRVlIRlgzaENCaE16cTBVUkRIVjhOTGd1dDRSU3ZDQ1BWQWlYSVA3WF85V0JXTU1lcXVzTUxLRTJGU0wyYnFTUk1BM3pINXhFTDJpLUdQZ1Zfd0dadGQ0ZmpzRC1NRUlDV1c0MVlMVVZRdVRpaTJjdUZSRWlKdGlRakhPc19oVzZpcG1GZDVfdjUwR1FZNXdKM18zRA?oc=5\n",
      "[6] Microsoft CEO Satya Nadella shakes up his own job, taps veteran exec as CEO of commercial business - GeekWire — google.com — https://news.google.com/rss/articles/CBMixwFBVV95cUxQVVdNdlV5bktHVHZXclB5Rmd0ZkQwVGVNQml2MVJJaC1pRlg1djQ5WjdXeFVZNFJtS0M1S2FzbWdkSWlRUTRUWjhmTTlUNDlMOEpMTW04RENaUzctR1poTUkyMlhMdlZUb0xUWThpNEVJNWxxNHRVRGVSa0F3MW9Ybkw0dlpUVU5KNEVRTkhtdDM2Y1czaVFXSGM4Z1ZNNU9ld1FfM0pORjFpV1ZCVWRFeW0wbUd2QTdxVjBfTTZoeGxhekJoYWZZ?oc=5\n"
     ]
    }
   ],
   "source": [
    "resp = ask(\"Who is the CEO of Microsoft?\")\n",
    "print(resp.answer)\n"
   ]
  },
  {
   "cell_type": "code",
   "execution_count": null,
   "id": "de220fe8-815a-495b-ba2b-a8cfbb6f5222",
   "metadata": {},
   "outputs": [],
   "source": []
  }
 ],
 "metadata": {
  "kernelspec": {
   "display_name": "Python (askme)",
   "language": "python",
   "name": "askme"
  },
  "language_info": {
   "codemirror_mode": {
    "name": "ipython",
    "version": 3
   },
   "file_extension": ".py",
   "mimetype": "text/x-python",
   "name": "python",
   "nbconvert_exporter": "python",
   "pygments_lexer": "ipython3",
   "version": "3.11.13"
  }
 },
 "nbformat": 4,
 "nbformat_minor": 5
}

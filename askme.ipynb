{
 "cells": [
  {
   "cell_type": "code",
   "execution_count": 3,
   "id": "4b20b0bf-8df1-4205-a8a7-f7ae72ae9769",
   "metadata": {},
   "outputs": [],
   "source": [
    "from askme import Retriever, verify_sentences, build_cited_answer, bibliography, write_decision_record\n",
    "from askme.types import AskResponse\n",
    "from datetime import datetime\n",
    "from nltk.tokenize import sent_tokenize\n"
   ]
  },
  {
   "cell_type": "code",
   "execution_count": 4,
   "id": "bb0e0590-4d92-42f3-99c4-5105872d6708",
   "metadata": {},
   "outputs": [],
   "source": [
    "def ask(query: str):\n",
    "    r = Retriever()\n",
    "    evidence = r.gather(query, max_per_source=4)\n",
    "    sentences = []\n",
    "    for e in evidence:\n",
    "        first = (sent_tokenize(e.text) or [e.text[:200]])[0]\n",
    "        sentences.append(first)\n",
    "    claims = verify_sentences(sentences, evidence)\n",
    "    answer = build_cited_answer(claims, evidence)\n",
    "    bib = bibliography(evidence)\n",
    "    record_path = write_decision_record(query, claims, evidence)\n",
    "    return AskResponse(\n",
    "        query=query,\n",
    "        answer=answer + \"\\n\\n\" + bib,\n",
    "        claims=claims,\n",
    "        evidence=evidence,\n",
    "        valid_as_of=datetime.utcnow(),\n",
    "        decision_record_path=record_path\n",
    "    )\n"
   ]
  },
  {
   "cell_type": "code",
   "execution_count": 5,
   "id": "42758aaf-8e88-4914-977e-662c9fd36971",
   "metadata": {},
   "outputs": [
    {
     "name": "stdout",
     "output_type": "stream",
     "text": [
      "Microsoft Gaming is an American multinational video game and digital entertainment division of Microsoft based in Redmond, Washington, established in 2022. [1] (Unverifiable)\n",
      "Satya Narayana Nadella is an Indian-born American business executive who is the chairman and chief executive officer (CEO) of Microsoft, succeeding Steve Ballmer in 2014 as CEO and John W. Thompson in 2021 as chairman. [2] (Unverifiable)\n",
      "Microsoft Corporation is an American multinational corporation and technology conglomerate headquartered in Redmond, Washington . [3] (Unverifiable)\n",
      "Chairman and Chief Executive Officer Satya Nadella is Chairman and Chief Executive Officer of Microsoft. [4] (Unverifiable)\n",
      "Microsoft CEO Satya Nadella shakes up his own job; appoints new CEO to run the company's biggest business Times of India [5] (Unverifiable)\n",
      "Why Does Microsoft Now Have a New, Extra CEO? [6] (Unverifiable)\n",
      "Microsoft’s Leadership Change to Focus On AI: Explained AI Magazine [7] (Unverifiable)\n",
      "\n",
      "[1] Microsoft Gaming — wikipedia.org — https://en.wikipedia.org/wiki/Microsoft_Gaming\n",
      "[2] Satya Nadella — wikipedia.org — https://en.wikipedia.org/wiki/Satya_Nadella\n",
      "[3] Microsoft - Wikipedia — wikipedia.org — https://en.wikipedia.org/wiki/Microsoft\n",
      "[4] Satya Nadella - Source — microsoft.com — https://news.microsoft.com/source/exec/satya-nadella/\n",
      "[5] Microsoft CEO Satya Nadella shakes up his own job; appoints new CEO to run the company's biggest business - Times of India — google.com — https://news.google.com/rss/articles/CBMilAJBVV95cUxNYTE1MFN2UGRyM0FFcXJqSHNaX2lFVU1CZkhzOVhOWGhMUFVydTFEeWg1ejVrWW5aNFAyTWtHcXYxWUwwQldObmNxVXdudmtkWGJkN2JYZXNvLURrVkZCTUYtaU1Ed2NyM3JyWG5kZUNyQXo5STFrOXllOW9xT0JvZEtnSDNtclFIM1FVQ0kwMGtIbjc1a05FaGNXV2c2ZXRJNXZlaUIzMnpweWdSV25Gb09wTWFZTFhlbGVzQzd1ZHlPYzVLTWhkSjROSERDQUEwRzVRLXFuV2lXRjczRHZnenB5TVFxVDVNeTJhYWhydkJ5YlJSNjVfX2MxUHhaRGtsb3lDcnZ0MU56eFFaU3ZsSUhRVTXSAZoCQVVfeXFMUDUxTTkyZVExZFdoNGk4QXNPM3hoMnotdXRzNVJuMV8wVFppMm11M2NSQXhpTmdJR09ERDUwWWNwQ2NHZEE4YnlZT1N3dUZRemdrZXRjUUNSQ3V2a0Yyd04yX0JwckZZR3AtSXoyelBRNkhXVnpOODNWa08zV0pwNUZCS3hzSVVoLUFGYmFGY2ZoaEp2Z1ZjRlFYbnhtVzBNZXFNUzF2RVdkM1U2TGJRdjhsZFh0XzktaHRJLTJUSG1YUjdibTZrSWRHSXdreHpYME14cTZJTzZCVjk1a3pmdHFOekFmZTc0MEZaQUFIUW1QeFJURUY4Sk02bTI0eXpJRmhkakFtaHZVT3FONVRMQzRyUzNFU2FIRWZB?oc=5\n",
      "[6] Why Does Microsoft Now Have a New, Extra CEO? - Technology Magazine — google.com — https://news.google.com/rss/articles/CBMimwFBVV95cUxQNFlIYldFSUk1QzFWM0xXT3hScjROWjRDaDlPT0g2ZkJPZ3hWN2tmeEM1VHV1bl9xc1plbzNWX1U1aU9rSktCZmdPWFdjajNmSkljcU9nX2NJSmNNSVNWZjZzV3djUjlXdXRnWG9GMHg2T2RjdHluYWJBUXJXd1A2UENvZDhhNy1fM0Jkbk43YXFzS0t3aUd6akI2MA?oc=5\n",
      "[7] Microsoft’s Leadership Change to Focus On AI: Explained - AI Magazine — google.com — https://news.google.com/rss/articles/CBMikAFBVV95cUxNQmlVSkJTNEprVllZakl2RmRndlBiSTByc1l6VkRqT3AyMHNxRzZ6TnB6N3lRTFZRbTBkR3JLZ1lNbnlZbzl5cG1tZVpyY3ZQYTRUUGlucVAySXRTWkZ2a0RSVm1xQkd5QnJ2Q1BJTWdsZEtscGFqZlc2VXJzRnVQOWZXelhEdGMyUkhnM0tWTks?oc=5\n"
     ]
    }
   ],
   "source": [
    "resp = ask(\"Who is the CEO of Microsoft?\")\n",
    "print(resp.answer)\n"
   ]
  },
  {
   "cell_type": "code",
   "execution_count": null,
   "id": "de220fe8-815a-495b-ba2b-a8cfbb6f5222",
   "metadata": {},
   "outputs": [],
   "source": []
  }
 ],
 "metadata": {
  "kernelspec": {
   "display_name": "Python (askme)",
   "language": "python",
   "name": "askme"
  },
  "language_info": {
   "codemirror_mode": {
    "name": "ipython",
    "version": 3
   },
   "file_extension": ".py",
   "mimetype": "text/x-python",
   "name": "python",
   "nbconvert_exporter": "python",
   "pygments_lexer": "ipython3",
   "version": "3.11.13"
  }
 },
 "nbformat": 4,
 "nbformat_minor": 5
}
